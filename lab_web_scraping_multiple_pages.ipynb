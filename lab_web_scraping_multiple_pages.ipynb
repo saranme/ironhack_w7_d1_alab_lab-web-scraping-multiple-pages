{
 "cells": [
  {
   "cell_type": "markdown",
   "metadata": {},
   "source": [
    "# Lab web scraping multiple pages"
   ]
  },
  {
   "cell_type": "markdown",
   "metadata": {},
   "source": [
    "## Earthquake details"
   ]
  },
  {
   "cell_type": "code",
   "execution_count": 1,
   "metadata": {},
   "outputs": [],
   "source": [
    "# import libraries\n",
    "import requests\n",
    "from bs4 import BeautifulSoup\n",
    "import pandas as pd\n",
    "from time import sleep\n",
    "import numpy as np"
   ]
  },
  {
   "cell_type": "code",
   "execution_count": 2,
   "metadata": {},
   "outputs": [
    {
     "data": {
      "text/plain": [
       "200"
      ]
     },
     "execution_count": 2,
     "metadata": {},
     "output_type": "execute_result"
    }
   ],
   "source": [
    "url = \"https://www.emsc-csem.org/Earthquake/\"\n",
    "response = requests.get(url)\n",
    "response.status_code # 200 status code means OK!"
   ]
  },
  {
   "cell_type": "code",
   "execution_count": 3,
   "metadata": {},
   "outputs": [],
   "source": [
    "iterations = range(1, 2000, 50)\n",
    "\n",
    "base_url = \"https://www.emsc-csem.org/Earthquake/?view=\"\n",
    "urls = []\n",
    "for i in iterations:\n",
    "    start_at= str(i)\n",
    "    url = base_url + start_at\n",
    "    urls.append(url)"
   ]
  },
  {
   "cell_type": "code",
   "execution_count": 26,
   "metadata": {},
   "outputs": [],
   "source": [
    "#initialize empty lists\n",
    "date = []\n",
    "latitude = []\n",
    "wind_latitude = []\n",
    "longitude = []\n",
    "wind_longitude = []\n",
    "region =[]\n",
    "\n",
    "for url in urls[0:5]:\n",
    "    response = requests.get(url)\n",
    "    #print(\"Parsing url: \",url)\n",
    "    #print()\n",
    "    if (response.status_code == 200):\n",
    "        wait_time = np.random.randint(1,4)\n",
    "        sleep(wait_time)\n",
    "        soup = BeautifulSoup(response.content, \"html.parser\")\n",
    "        elems = soup.select(\"tr.normal\")\n",
    "        for elem in elems:\n",
    "            try:\n",
    "                sub = elem.select(\"td.tabev6 a\")\n",
    "                date.append(sub[0].get_text().replace(\"\\xa0\\xa0\\xa0\",\", \"))\n",
    "            except:\n",
    "                date.append('0000-00-00, 00:00:00.0')\n",
    "            try:\n",
    "                latitude.append(elem.select(\"td.tabev1\")[0].get_text().replace(\"\\xa0\",\"\"))\n",
    "            except:\n",
    "                latitude.append('00.00')\n",
    "            try:\n",
    "                wind_latitude.append(elem.select(\"td.tabev2\")[0].get_text().replace(\"\\xa0\",\"\"))\n",
    "            except:\n",
    "                wind_latitude.append('-')\n",
    "            try:\n",
    "                longitude.append(elem.select(\"td.tabev1\")[1].get_text().replace(\"\\xa0\",\"\"))\n",
    "            except:\n",
    "                longitude.append('00.00')\n",
    "            try:\n",
    "                wind_longitude.append(elem.select(\"td.tabev2\")[1].get_text().replace(\"\\xa0\",\"\"))\n",
    "            except:\n",
    "                wind_longitude.append('-')\n",
    "            try:\n",
    "                region.append(elem.select(\"td.tb_region\")[0].get_text().replace(\"\\xa0\",\"\"))\n",
    "            except:\n",
    "                region.append('UNKNOWN')\n",
    "\n",
    "#print(date[0:3])\n",
    "#print(latitude[0:3])\n",
    "#print(longitude[0:3])\n",
    "#print(region[0:3])\n",
    "\n",
    "df = pd.DataFrame({'date & time' : date[0:3], 'latitude' : latitude[0:3], 'wind_latitude' : wind_latitude[0:3], 'longitude' : longitude[0:3], 'wind_longitude' : wind_longitude[0:3], 'region' : region[0:3]})"
   ]
  },
  {
   "cell_type": "code",
   "execution_count": 27,
   "metadata": {},
   "outputs": [
    {
     "data": {
      "text/html": [
       "<div>\n",
       "<style scoped>\n",
       "    .dataframe tbody tr th:only-of-type {\n",
       "        vertical-align: middle;\n",
       "    }\n",
       "\n",
       "    .dataframe tbody tr th {\n",
       "        vertical-align: top;\n",
       "    }\n",
       "\n",
       "    .dataframe thead th {\n",
       "        text-align: right;\n",
       "    }\n",
       "</style>\n",
       "<table border=\"1\" class=\"dataframe\">\n",
       "  <thead>\n",
       "    <tr style=\"text-align: right;\">\n",
       "      <th></th>\n",
       "      <th>date &amp; time</th>\n",
       "      <th>latitude</th>\n",
       "      <th>wind_latitude</th>\n",
       "      <th>longitude</th>\n",
       "      <th>wind_longitude</th>\n",
       "      <th>region</th>\n",
       "    </tr>\n",
       "  </thead>\n",
       "  <tbody>\n",
       "    <tr>\n",
       "      <th>0</th>\n",
       "      <td>2021-02-22, 15:30:58.8</td>\n",
       "      <td>19.18</td>\n",
       "      <td>N</td>\n",
       "      <td>155.46</td>\n",
       "      <td>W</td>\n",
       "      <td>ISLAND OF HAWAII, HAWAII</td>\n",
       "    </tr>\n",
       "    <tr>\n",
       "      <th>1</th>\n",
       "      <td>2021-02-22, 15:21:30.0</td>\n",
       "      <td>15.36</td>\n",
       "      <td>S</td>\n",
       "      <td>75.83</td>\n",
       "      <td>W</td>\n",
       "      <td>NEAR COAST OF CENTRAL PERU</td>\n",
       "    </tr>\n",
       "    <tr>\n",
       "      <th>2</th>\n",
       "      <td>2021-02-22, 15:21:22.9</td>\n",
       "      <td>14.41</td>\n",
       "      <td>N</td>\n",
       "      <td>93.13</td>\n",
       "      <td>W</td>\n",
       "      <td>OFFSHORE CHIAPAS, MEXICO</td>\n",
       "    </tr>\n",
       "  </tbody>\n",
       "</table>\n",
       "</div>"
      ],
      "text/plain": [
       "              date & time latitude wind_latitude longitude wind_longitude  \\\n",
       "0  2021-02-22, 15:30:58.8    19.18             N    155.46              W   \n",
       "1  2021-02-22, 15:21:30.0    15.36             S     75.83              W   \n",
       "2  2021-02-22, 15:21:22.9    14.41             N     93.13              W   \n",
       "\n",
       "                       region  \n",
       "0    ISLAND OF HAWAII, HAWAII  \n",
       "1  NEAR COAST OF CENTRAL PERU  \n",
       "2    OFFSHORE CHIAPAS, MEXICO  "
      ]
     },
     "execution_count": 27,
     "metadata": {},
     "output_type": "execute_result"
    }
   ],
   "source": [
    "df"
   ]
  },
  {
   "cell_type": "markdown",
   "metadata": {},
   "source": [
    "## FBI most wanted"
   ]
  },
  {
   "cell_type": "code",
   "execution_count": 33,
   "metadata": {},
   "outputs": [],
   "source": [
    "url2 = \"https://www.fbi.gov/wanted/topten\"\n",
    "response2 = requests.get(url2)\n",
    "soup2 = BeautifulSoup(response2.content, \"html.parser\")"
   ]
  },
  {
   "cell_type": "code",
   "execution_count": 35,
   "metadata": {},
   "outputs": [],
   "source": [
    "most_wanted = []\n",
    "names = soup2.findAll('li',attrs={\"class\":\"portal-type-person castle-grid-block-item\"})\n",
    "for x in names:\n",
    "    name = str(x.find('h3',{'class':'title'}).text).strip()\n",
    "    most_wanted.append(name)\n",
    "    \n",
    "df2 = pd.DataFrame({'most_wanted':most_wanted})"
   ]
  },
  {
   "cell_type": "code",
   "execution_count": 36,
   "metadata": {},
   "outputs": [
    {
     "data": {
      "text/html": [
       "<div>\n",
       "<style scoped>\n",
       "    .dataframe tbody tr th:only-of-type {\n",
       "        vertical-align: middle;\n",
       "    }\n",
       "\n",
       "    .dataframe tbody tr th {\n",
       "        vertical-align: top;\n",
       "    }\n",
       "\n",
       "    .dataframe thead th {\n",
       "        text-align: right;\n",
       "    }\n",
       "</style>\n",
       "<table border=\"1\" class=\"dataframe\">\n",
       "  <thead>\n",
       "    <tr style=\"text-align: right;\">\n",
       "      <th></th>\n",
       "      <th>most_wanted</th>\n",
       "    </tr>\n",
       "  </thead>\n",
       "  <tbody>\n",
       "    <tr>\n",
       "      <th>0</th>\n",
       "      <td>RAFAEL CARO-QUINTERO</td>\n",
       "    </tr>\n",
       "    <tr>\n",
       "      <th>1</th>\n",
       "      <td>ROBERT WILLIAM FISHER</td>\n",
       "    </tr>\n",
       "    <tr>\n",
       "      <th>2</th>\n",
       "      <td>BHADRESHKUMAR CHETANBHAI PATEL</td>\n",
       "    </tr>\n",
       "    <tr>\n",
       "      <th>3</th>\n",
       "      <td>ALEJANDRO ROSALES CASTILLO</td>\n",
       "    </tr>\n",
       "    <tr>\n",
       "      <th>4</th>\n",
       "      <td>ARNOLDO JIMENEZ</td>\n",
       "    </tr>\n",
       "  </tbody>\n",
       "</table>\n",
       "</div>"
      ],
      "text/plain": [
       "                      most_wanted\n",
       "0            RAFAEL CARO-QUINTERO\n",
       "1           ROBERT WILLIAM FISHER\n",
       "2  BHADRESHKUMAR CHETANBHAI PATEL\n",
       "3      ALEJANDRO ROSALES CASTILLO\n",
       "4                 ARNOLDO JIMENEZ"
      ]
     },
     "execution_count": 36,
     "metadata": {},
     "output_type": "execute_result"
    }
   ],
   "source": [
    "df2.head()"
   ]
  },
  {
   "cell_type": "markdown",
   "metadata": {},
   "source": [
    "## Python wikipedia"
   ]
  },
  {
   "cell_type": "code",
   "execution_count": 37,
   "metadata": {},
   "outputs": [
    {
     "data": {
      "text/plain": [
       "200"
      ]
     },
     "execution_count": 37,
     "metadata": {},
     "output_type": "execute_result"
    }
   ],
   "source": [
    "url3 ='https://en.wikipedia.org/wiki/Python'\n",
    "response3 = requests.get(url3)\n",
    "response3.status_code"
   ]
  },
  {
   "cell_type": "code",
   "execution_count": 38,
   "metadata": {},
   "outputs": [],
   "source": [
    "soup3 = BeautifulSoup(response3.content, \"html.parser\")"
   ]
  },
  {
   "cell_type": "code",
   "execution_count": 40,
   "metadata": {},
   "outputs": [
    {
     "data": {
      "text/plain": [
       "'/wiki/Pythons'"
      ]
     },
     "execution_count": 40,
     "metadata": {},
     "output_type": "execute_result"
    }
   ],
   "source": [
    "sp = soup3.select(\"#mw-content-text > div.mw-parser-output > ul > li > a\")[0][\"href\"]\n",
    "sp"
   ]
  },
  {
   "cell_type": "code",
   "execution_count": 41,
   "metadata": {},
   "outputs": [
    {
     "data": {
      "text/plain": [
       "['wikipedia.org/wiki/Pythons',\n",
       " 'wikipedia.org/wiki/Python_(programming_language)',\n",
       " 'wikipedia.org/wiki/CMU_Common_Lisp',\n",
       " 'wikipedia.org/wiki/PERQ#PERQ_3',\n",
       " 'wikipedia.org/wiki/Python_of_Aenus',\n",
       " 'wikipedia.org/wiki/Python_(painter)',\n",
       " 'wikipedia.org/wiki/Python_of_Byzantium',\n",
       " 'wikipedia.org/wiki/Python_of_Catana',\n",
       " 'wikipedia.org/wiki/Python_Anghelo',\n",
       " 'wikipedia.org/wiki/Python_(Efteling)',\n",
       " 'wikipedia.org/wiki/Python_(Busch_Gardens_Tampa_Bay)',\n",
       " 'wikipedia.org/wiki/Python_(Coney_Island,_Cincinnati,_Ohio)',\n",
       " 'wikipedia.org/wiki/Python_(automobile_maker)']"
      ]
     },
     "execution_count": 41,
     "metadata": {},
     "output_type": "execute_result"
    }
   ],
   "source": [
    "links = []\n",
    "for i in range(len(sp)):\n",
    "    links.append(\"wikipedia.org\" + soup3.select(\"#mw-content-text > div.mw-parser-output > ul > li > a\")[i][\"href\"])\n",
    "\n",
    "links"
   ]
  },
  {
   "cell_type": "code",
   "execution_count": null,
   "metadata": {},
   "outputs": [],
   "source": []
  }
 ],
 "metadata": {
  "kernelspec": {
   "display_name": "Python 3",
   "language": "python",
   "name": "python3"
  },
  "language_info": {
   "codemirror_mode": {
    "name": "ipython",
    "version": 3
   },
   "file_extension": ".py",
   "mimetype": "text/x-python",
   "name": "python",
   "nbconvert_exporter": "python",
   "pygments_lexer": "ipython3",
   "version": "3.8.5"
  }
 },
 "nbformat": 4,
 "nbformat_minor": 4
}
